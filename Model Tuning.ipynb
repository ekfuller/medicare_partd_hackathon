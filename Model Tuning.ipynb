{
 "cells": [
  {
   "cell_type": "code",
   "execution_count": 1,
   "id": "09046285-48be-4678-98ab-ce01072770ca",
   "metadata": {},
   "outputs": [],
   "source": [
    "import pandas as pd\n",
    "import seaborn as sns\n",
    "import matplotlib.pyplot as plt\n",
    "from sklearn.model_selection import train_test_split\n",
    "import numpy as np\n",
    "from sklearn.linear_model import LinearRegression\n",
    "from sklearn.preprocessing import OneHotEncoder\n",
    "from sklearn.compose import make_column_transformer\n",
    "from sklearn.metrics import mean_squared_error"
   ]
  },
  {
   "cell_type": "code",
   "execution_count": 2,
   "id": "0987e577-e074-43b4-afdc-7e3c84c93df5",
   "metadata": {},
   "outputs": [],
   "source": [
    "df = pd.read_csv('./data/medicare_partd_20162020_filled.csv')"
   ]
  },
  {
   "cell_type": "markdown",
   "id": "a22706ac-a0d2-468b-8d97-d3c7bedbbeab",
   "metadata": {},
   "source": [
    "Try a simple model with fewer attributes"
   ]
  },
  {
   "cell_type": "code",
   "execution_count": 5,
   "id": "73d2eb37-a7f1-4e24-9033-e5c5ef3d82e3",
   "metadata": {},
   "outputs": [],
   "source": [
    "X=df[['Avg_Spnd_Per_Bene_2016','Avg_Spnd_Per_Bene_2017','Avg_Spnd_Per_Bene_2018','Avg_Spnd_Per_Bene_2019']]\n",
    "y=df['Avg_Spnd_Per_Bene_2020']"
   ]
  },
  {
   "cell_type": "code",
   "execution_count": 6,
   "id": "359070bf-895b-41a6-9603-7d34e0d4ea3e",
   "metadata": {},
   "outputs": [],
   "source": [
    "X_train, X_test, y_train, y_test = train_test_split(X,y, random_state=20)"
   ]
  },
  {
   "cell_type": "code",
   "execution_count": 7,
   "id": "709854cc-c28c-4432-80ef-0326630f9e5b",
   "metadata": {},
   "outputs": [],
   "source": [
    "lr_simp = LinearRegression()"
   ]
  },
  {
   "cell_type": "code",
   "execution_count": 8,
   "id": "00287ad4-4bc2-4fe0-b320-5c4648f0a136",
   "metadata": {},
   "outputs": [
    {
     "data": {
      "text/plain": [
       "LinearRegression()"
      ]
     },
     "execution_count": 8,
     "metadata": {},
     "output_type": "execute_result"
    }
   ],
   "source": [
    "lr_simp.fit(X_train, y_train)"
   ]
  },
  {
   "cell_type": "code",
   "execution_count": 10,
   "id": "65ba80ad-4b7e-4247-801f-e884e2549f11",
   "metadata": {},
   "outputs": [],
   "source": [
    "simp_preds = lr_simp.predict(X_test)"
   ]
  },
  {
   "cell_type": "code",
   "execution_count": 13,
   "id": "d8701362-ecf7-4970-a2ee-b1c861e17284",
   "metadata": {},
   "outputs": [
    {
     "data": {
      "text/plain": [
       "(0.9589527678842404, 0.9486655000331241)"
      ]
     },
     "execution_count": 13,
     "metadata": {},
     "output_type": "execute_result"
    }
   ],
   "source": [
    "lr_simp.score(X_test, y_test), lr_simp.score(X_train, y_train)"
   ]
  },
  {
   "cell_type": "code",
   "execution_count": 15,
   "id": "8313b21b-0882-4a03-bda1-aee2c75f44c0",
   "metadata": {},
   "outputs": [
    {
     "data": {
      "text/plain": [
       "9493.950303374058"
      ]
     },
     "execution_count": 15,
     "metadata": {},
     "output_type": "execute_result"
    }
   ],
   "source": [
    "mean_squared_error(y_test, simp_preds, squared=False)"
   ]
  },
  {
   "cell_type": "code",
   "execution_count": null,
   "id": "b0701e0c-7e7f-44c1-8e73-ddcef4929ee2",
   "metadata": {},
   "outputs": [],
   "source": []
  }
 ],
 "metadata": {
  "kernelspec": {
   "display_name": "Python 3 (ipykernel)",
   "language": "python",
   "name": "python3"
  },
  "language_info": {
   "codemirror_mode": {
    "name": "ipython",
    "version": 3
   },
   "file_extension": ".py",
   "mimetype": "text/x-python",
   "name": "python",
   "nbconvert_exporter": "python",
   "pygments_lexer": "ipython3",
   "version": "3.9.7"
  }
 },
 "nbformat": 4,
 "nbformat_minor": 5
}
